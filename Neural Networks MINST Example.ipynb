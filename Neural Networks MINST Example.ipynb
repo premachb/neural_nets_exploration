{
 "cells": [
  {
   "cell_type": "markdown",
   "metadata": {},
   "source": [
    "## Neural Networks Tutorial using the MINST catalog of handwritten digits\n",
    "\n",
    "### Input to your network is 784 pixel values representing an image of handwritten digit\n",
    "\n",
    "Apply a weight parameter to each pixel value in the input. This represents how important each of the inputs is to the calculation of the next neurons value. \n",
    "\n",
    "a0...aN = Values of each of the input (in this case a0..a784)\n",
    "w0..wN = Weights for each of the input (in this case w0..w784)\n",
    "\n",
    "You want your values to be between 0 and 1 (to emulate a neuron being switched on or off). To do this you can use a function like the Sigmoid Function\n",
    "\n",
    "Sigmoid = 1 / 1 + e(-x) (this will convert any input to an output between 0 and 1)\n",
    "\n",
    "However you may only want to activate the neuron when it reaches some meaningful weighted sum (like weighted sum > 10). To do this you subtract a **bias** from the weighted sum.\n",
    "\n",
    "So the formula becomes\n",
    "\n",
    "Sigmoid(w0a0 + w1a1 .... wnan - 10)\n",
    "\n",
    "### Structure of our network\n",
    "\n",
    "Our network has an input of 784 pixel values. After that the inputs connect to 2 **hidden layers**. This hidden layers will be 16 neurons themselves. Each input will **connect** to each of the outputs of the hidden layers and then propogate through the network. Each of these **connections** will have their own **weights** and **biases**. For this network in total there will be \n",
    "\n",
    "784 (number of input neurons) * 16 (connections to first layer) * 16 (connections to the second layer) + (16 * 10) = 13002 different weights and biases. Think of each of these 13002 differnet weights and biases and different knobs you can turn to optimize the network. \n",
    "\n"
   ]
  },
  {
   "cell_type": "code",
   "execution_count": 1,
   "metadata": {
    "collapsed": true
   },
   "outputs": [],
   "source": [
    "from numpy import random"
   ]
  },
  {
   "cell_type": "code",
   "execution_count": null,
   "metadata": {
    "collapsed": true
   },
   "outputs": [],
   "source": [
    "class Network:\n",
    "    def loss_function(predicted_y, actual_y):\n",
    "        return "
   ]
  }
 ],
 "metadata": {
  "kernelspec": {
   "display_name": "Python 3",
   "language": "python",
   "name": "python3"
  },
  "language_info": {
   "codemirror_mode": {
    "name": "ipython",
    "version": 3
   },
   "file_extension": ".py",
   "mimetype": "text/x-python",
   "name": "python",
   "nbconvert_exporter": "python",
   "pygments_lexer": "ipython3",
   "version": "3.6.3"
  }
 },
 "nbformat": 4,
 "nbformat_minor": 2
}
